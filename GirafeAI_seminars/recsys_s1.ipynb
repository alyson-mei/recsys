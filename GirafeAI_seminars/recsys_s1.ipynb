{
  "cells": [
    {
      "cell_type": "markdown",
      "metadata": {
        "id": "Lf27VpT3w11v"
      },
      "source": [
        "# Collaborative filtering\n"
      ]
    },
    {
      "cell_type": "markdown",
      "metadata": {
        "id": "VRZ6JzpIw79H"
      },
      "source": [
        "Introduction to basics of recommender systems"
      ]
    },
    {
      "cell_type": "markdown",
      "metadata": {
        "id": "C4-NIEcxxFyF"
      },
      "source": [
        "## Setup"
      ]
    },
    {
      "cell_type": "code",
      "execution_count": 1,
      "metadata": {
        "id": "EGFzNXPoxHKS"
      },
      "outputs": [],
      "source": [
        "import numpy as np\n",
        "from matplotlib import pyplot as plt\n",
        "from typing import Callable\n",
        "import pprint\n",
        "\n",
        "pp = pprint.PrettyPrinter(indent=4)"
      ]
    },
    {
      "cell_type": "markdown",
      "metadata": {
        "id": "AA2GDb-LxLGP"
      },
      "source": [
        "## Data"
      ]
    },
    {
      "cell_type": "markdown",
      "metadata": {
        "id": "zceX5y53x2Zt"
      },
      "source": [
        "{user -> {movie -> rating}}"
      ]
    },
    {
      "cell_type": "code",
      "execution_count": 2,
      "metadata": {
        "id": "HB5ca6wOxNXc"
      },
      "outputs": [],
      "source": [
        "critics = {\n",
        "    \"Toby\": {\n",
        "        \"Snakes on a Plane\": 4.5,\n",
        "        \"You, Me and Dupree\": 1.0,\n",
        "        \"Superman Returns\": 4.0,\n",
        "    },\n",
        "    \"Lisa Rose\": {\n",
        "        \"Lady in the Water\": 2.5,\n",
        "        \"Snakes on a Plane\": 3.5,\n",
        "        \"Just My Luck\": 3.0,\n",
        "        \"Superman Returns\": 3.5,\n",
        "        \"You, Me and Dupree\": 2.5,\n",
        "        \"The Night Listener\": 3.0,\n",
        "    },\n",
        "    \"Gene Seymour\": {\n",
        "        \"Lady in the Water\": 3.0,\n",
        "        \"Snakes on a Plane\": 3.5,\n",
        "        \"Just My Luck\": 1.5,\n",
        "        \"Superman Returns\": 5.0,\n",
        "        \"The Night Listener\": 3.0,\n",
        "        \"You, Me and Dupree\": 3.5,\n",
        "    },\n",
        "    \"Michael Phillips\": {\n",
        "        \"Lady in the Water\": 2.5,\n",
        "        \"Snakes on a Plane\": 3.0,\n",
        "        \"Superman Returns\": 3.5,\n",
        "        \"The Night Listener\": 4.0,\n",
        "    },\n",
        "    \"Claudia Puig\": {\n",
        "        \"Snakes on a Plane\": 3.5,\n",
        "        \"Just My Luck\": 3.0,\n",
        "        \"The Night Listener\": 4.5,\n",
        "        \"Superman Returns\": 4.0,\n",
        "        \"You, Me and Dupree\": 2.5,\n",
        "    },\n",
        "    \"Mick LaSalle\": {\n",
        "        \"Lady in the Water\": 3.0,\n",
        "        \"Snakes on a Plane\": 4.0,\n",
        "        \"Just My Luck\": 2.0,\n",
        "        \"Superman Returns\": 3.0,\n",
        "        \"The Night Listener\": 3.0,\n",
        "        \"You, Me and Dupree\": 2.0,\n",
        "    },\n",
        "    \"Jack Matthews\": {\n",
        "        \"Lady in the Water\": 3.0,\n",
        "        \"Snakes on a Plane\": 4.0,\n",
        "        \"The Night Listener\": 3.0,\n",
        "        \"Superman Returns\": 5.0,\n",
        "        \"You, Me and Dupree\": 3.5,\n",
        "    },\n",
        "}\n"
      ]
    },
    {
      "cell_type": "markdown",
      "metadata": {
        "id": "b811uj4SxLMM"
      },
      "source": [
        "## Distance and similarity\n"
      ]
    },
    {
      "cell_type": "markdown",
      "source": [
        "Here we calculate similarity between users based on the Euclidian and Pearson distances"
      ],
      "metadata": {
        "id": "Ljkse1CvtrEv"
      }
    },
    {
      "cell_type": "markdown",
      "metadata": {
        "id": "rzihVb4i7CPE"
      },
      "source": [
        "### Similarity"
      ]
    },
    {
      "cell_type": "markdown",
      "metadata": {
        "id": "s48ha66tyYh7"
      },
      "source": [
        "$$s(x,y) = \\frac{1}{1 + d(x, y)}$$"
      ]
    },
    {
      "cell_type": "code",
      "execution_count": 3,
      "metadata": {
        "colab": {
          "base_uri": "https://localhost:8080/",
          "height": 447
        },
        "id": "a7k_aKNzynuY",
        "outputId": "ae2c5647-3c38-4281-e04f-3d4c180db3d7"
      },
      "outputs": [
        {
          "output_type": "execute_result",
          "data": {
            "text/plain": [
              "[<matplotlib.lines.Line2D at 0x789b79ca3ad0>]"
            ]
          },
          "metadata": {},
          "execution_count": 3
        },
        {
          "output_type": "display_data",
          "data": {
            "text/plain": [
              "<Figure size 640x480 with 1 Axes>"
            ],
            "image/png": "[encoded data removed]"
          },
          "metadata": {}
        }
      ],
      "source": [
        "f = lambda x: 1 / (1 + x)\n",
        "x = np.arange(0., 10., 0.1)\n",
        "\n",
        "plt.plot(x, f(x))"
      ]
    },
    {
      "cell_type": "markdown",
      "metadata": {
        "id": "pvJ-JGxTzqlH"
      },
      "source": [
        "### Euclidian distance"
      ]
    },
    {
      "cell_type": "markdown",
      "metadata": {
        "id": "LVAB9bhezv-c"
      },
      "source": [
        "$$d(x,y) = \\sqrt{\\sum_{i=1}^n (x_i - y_i)^2}$$"
      ]
    },
    {
      "cell_type": "code",
      "execution_count": 4,
      "metadata": {
        "id": "VscKXSl5zvNu"
      },
      "outputs": [],
      "source": [
        "def similar_films(critics: dict, left_person: str, right_person: str) -> list:\n",
        "    \"\"\"Return list of films rated by both users\"\"\"\n",
        "    sim_films = []\n",
        "\n",
        "    for film in critics[left_person]:\n",
        "        if film in critics[right_person]:\n",
        "            sim_films.append(film)\n",
        "\n",
        "    return sim_films"
      ]
    },
    {
      "cell_type": "code",
      "execution_count": 5,
      "metadata": {
        "id": "helmi6H8zpqQ"
      },
      "outputs": [],
      "source": [
        "def sim_distance(critics: dict, left_person: str, right_person: str) -> float:\n",
        "    \"\"\"Calculates euclidian distance based similarity score for persons\"\"\"\n",
        "\n",
        "    sim_films = similar_films(critics, left_person, right_person)\n",
        "    euclid_dist_sum = 0\n",
        "    for film in sim_films:\n",
        "        euclid_dist_sum += (critics[left_person][film] - critics[right_person][film])**2\n",
        "\n",
        "    return 1 / (1 + euclid_dist_sum**0.5)"
      ]
    },
    {
      "cell_type": "code",
      "execution_count": 6,
      "metadata": {
        "colab": {
          "base_uri": "https://localhost:8080/"
        },
        "id": "6yMblH8lzln0",
        "outputId": "e55b5645-1bf0-4fc0-bba2-6d49ad14de87"
      },
      "outputs": [
        {
          "output_type": "execute_result",
          "data": {
            "text/plain": [
              "0.3483314773547883"
            ]
          },
          "metadata": {},
          "execution_count": 6
        }
      ],
      "source": [
        "sim_distance(critics, \"Lisa Rose\", \"Toby\")"
      ]
    },
    {
      "cell_type": "code",
      "execution_count": 7,
      "metadata": {
        "colab": {
          "base_uri": "https://localhost:8080/"
        },
        "id": "jihW9PV22b9T",
        "outputId": "a8226b4f-002b-44a9-b12e-a9acecd7c9fb"
      },
      "outputs": [
        {
          "output_type": "stream",
          "name": "stdout",
          "text": [
            "[[1.    0.348 0.258 0.387 0.357 0.4   0.267]\n",
            " [0.348 1.    0.294 0.472 0.387 0.414 0.341]\n",
            " [0.258 0.294 1.    0.341 0.282 0.278 0.667]\n",
            " [0.387 0.472 0.341 1.    0.536 0.387 0.32 ]\n",
            " [0.357 0.387 0.282 0.536 1.    0.315 0.32 ]\n",
            " [0.4   0.414 0.278 0.387 0.315 1.    0.286]\n",
            " [0.267 0.341 0.667 0.32  0.32  0.286 1.   ]]\n",
            "0.4554311978920751 0.23926368288388913\n"
          ]
        }
      ],
      "source": [
        "dist_sim_vals = np.zeros((len(critics), len(critics)))\n",
        "\n",
        "for i, source in enumerate(critics):\n",
        "    for j, referer in enumerate(critics):\n",
        "        dist_sim_vals[i, j] = sim_distance(critics, source, referer)\n",
        "\n",
        "print(dist_sim_vals.round(3))\n",
        "print(dist_sim_vals.mean(), dist_sim_vals.std())"
      ]
    },
    {
      "cell_type": "code",
      "execution_count": 8,
      "metadata": {
        "colab": {
          "base_uri": "https://localhost:8080/"
        },
        "id": "deJ_8bVC2krN",
        "outputId": "dadfb0ee-f995-4ce1-b834-5352a1cd2774"
      },
      "outputs": [
        {
          "output_type": "stream",
          "name": "stdout",
          "text": [
            "[[False False False False False False False]\n",
            " [ True False False False False False False]\n",
            " [ True  True False False False False False]\n",
            " [ True  True  True False False False False]\n",
            " [ True  True  True  True False False False]\n",
            " [ True  True  True  True  True False False]\n",
            " [ True  True  True  True  True  True False]]\n",
            "[0.348 0.258 0.294 0.387 0.472 0.341 0.357 0.387 0.282 0.536 0.4   0.414\n",
            " 0.278 0.387 0.315 0.267 0.341 0.667 0.32  0.32  0.286]\n",
            "0.3646697308740877 0.09552375448837512\n"
          ]
        }
      ],
      "source": [
        "# mean and std over distinct distances\n",
        "\n",
        "tirangle_mask = np.tri(len(critics), k=-1, dtype=np.bool_)\n",
        "print(tirangle_mask)\n",
        "\n",
        "norm_dist_sim_vals = dist_sim_vals[tirangle_mask]\n",
        "print(norm_dist_sim_vals.round(3))\n",
        "print(norm_dist_sim_vals.mean(), norm_dist_sim_vals.std())"
      ]
    },
    {
      "cell_type": "code",
      "execution_count": 9,
      "metadata": {
        "id": "yK_XDkcA3vqp"
      },
      "outputs": [],
      "source": [
        "import matplotlib.pyplot as plt\n",
        "\n",
        "\n",
        "def plot_pdf(values: np.ndarray, title: str):\n",
        "    \"\"\"Plots `values` distribution density\"\"\"\n",
        "    plt.figure(figsize=(10, 5))\n",
        "    plt.violinplot(values.flatten(), vert=False, showmedians=True)\n",
        "    plt.xlabel(\"Similarity\")\n",
        "    plt.grid()\n",
        "    plt.title(title)\n",
        "    plt.show()"
      ]
    },
    {
      "cell_type": "code",
      "execution_count": 10,
      "metadata": {
        "colab": {
          "base_uri": "https://localhost:8080/",
          "height": 487
        },
        "id": "v62OuZwW346B",
        "outputId": "ad70c0dd-3100-481c-8c8b-031faeb21aee"
      },
      "outputs": [
        {
          "output_type": "display_data",
          "data": {
            "text/plain": [
              "<Figure size 1000x500 with 1 Axes>"
            ],
            "image/png": "[encoded data removed]"
          },
          "metadata": {}
        }
      ],
      "source": [
        "plot_pdf(dist_sim_vals, \"Euclidian similarity distribution\")"
      ]
    },
    {
      "cell_type": "code",
      "execution_count": 11,
      "metadata": {
        "colab": {
          "base_uri": "https://localhost:8080/",
          "height": 487
        },
        "id": "ejEWudKg33f9",
        "outputId": "e79ea2aa-1eb2-45a2-827e-e50d2b4c92f9"
      },
      "outputs": [
        {
          "output_type": "display_data",
          "data": {
            "text/plain": [
              "<Figure size 1000x500 with 1 Axes>"
            ],
            "image/png": "[encoded data removed]"
          },
          "metadata": {}
        }
      ],
      "source": [
        "plot_pdf(norm_dist_sim_vals, \"Normalized euclidian similarity distribution\")"
      ]
    },
    {
      "cell_type": "markdown",
      "metadata": {
        "id": "Dl_fsR0r4FK5"
      },
      "source": [
        "### Pearson correlation as a distance"
      ]
    },
    {
      "cell_type": "markdown",
      "metadata": {
        "id": "CXfoqtwq4QTx"
      },
      "source": [
        "$$\\textrm{corr}(x,y) = \\frac{E[(X-E[X])\\cdot (Y-E[Y])]}{\\sqrt{D[X]D[Y]}} =  \\frac{\\sum_{i=1}^n (x_i-\\bar{x})(y_i-\\bar{y})}{\\sqrt{\\sum_{i=1}^n(x_i-\\bar{x})^2 \\sum_{i=1}^n(y_i - \\bar{y})^2}}$$"
      ]
    },
    {
      "cell_type": "code",
      "execution_count": 12,
      "metadata": {
        "id": "tRQBPW7W4IPQ"
      },
      "outputs": [],
      "source": [
        "from math import isnan\n",
        "\n",
        "from scipy.stats import pearsonr\n",
        "\n",
        "\n",
        "def sim_pearson(critics_dict, left_person, right_person):\n",
        "    \"\"\"Calculates pearson correlation based similarity between persons\"\"\"\n",
        "    sim_films = similar_films(critics_dict, left_person, right_person)\n",
        "\n",
        "    if len(sim_films) < 2:\n",
        "        return 0\n",
        "\n",
        "    scores_left = []\n",
        "    scores_right = []\n",
        "    for film in sim_films:\n",
        "        scores_left.append(critics_dict[left_person][film])\n",
        "        scores_right.append(critics_dict[right_person][film])\n",
        "\n",
        "    correlation = pearsonr(scores_left, scores_right)[0]\n",
        "\n",
        "    return correlation\n"
      ]
    },
    {
      "cell_type": "code",
      "execution_count": 13,
      "metadata": {
        "colab": {
          "base_uri": "https://localhost:8080/"
        },
        "id": "5-u2FVfb5lqh",
        "outputId": "78611a92-25d2-4ca9-b96b-a5f654f240b7"
      },
      "outputs": [
        {
          "output_type": "stream",
          "name": "stdout",
          "text": [
            "0.3960590171906697\n",
            "0.9912407071619302\n"
          ]
        }
      ],
      "source": [
        "print(sim_pearson(critics, \"Lisa Rose\", \"Gene Seymour\"))\n",
        "print(sim_pearson(critics, \"Lisa Rose\", \"Toby\"))"
      ]
    },
    {
      "cell_type": "code",
      "execution_count": 14,
      "metadata": {
        "colab": {
          "base_uri": "https://localhost:8080/"
        },
        "id": "KOJdFlEV5spo",
        "outputId": "cc529db6-85c5-4882-c2e3-e6fe230f76d6"
      },
      "outputs": [
        {
          "output_type": "stream",
          "name": "stdout",
          "text": [
            "[[ 1.     0.991  0.381 -1.     0.893  0.924  0.663]\n",
            " [ 0.991  1.     0.396  0.405  0.567  0.594  0.747]\n",
            " [ 0.381  0.396  1.     0.205  0.315  0.412  0.964]\n",
            " [-1.     0.405  0.205  1.     1.    -0.258  0.135]\n",
            " [ 0.893  0.567  0.315  1.     1.     0.567  0.029]\n",
            " [ 0.924  0.594  0.412 -0.258  0.567  1.     0.211]\n",
            " [ 0.663  0.747  0.964  0.135  0.029  0.211  1.   ]]\n",
            "0.5159356584296166 0.47132528276359864\n"
          ]
        }
      ],
      "source": [
        "dist_pear_vals = np.zeros((len(critics), len(critics)))\n",
        "\n",
        "for i, source in enumerate(critics):\n",
        "    for j, referer in enumerate(critics):\n",
        "        dist_pear_vals[i, j] = sim_pearson(critics, source, referer)\n",
        "\n",
        "print(dist_pear_vals.round(3))\n",
        "print(dist_pear_vals.mean(), dist_pear_vals.std())\n"
      ]
    },
    {
      "cell_type": "code",
      "execution_count": 15,
      "metadata": {
        "colab": {
          "base_uri": "https://localhost:8080/"
        },
        "id": "51M0cVXP6wro",
        "outputId": "fea1556d-d118-4aad-dd81-399795407f7c"
      },
      "outputs": [
        {
          "output_type": "stream",
          "name": "stdout",
          "text": [
            "0.43525826816788604 0.462179856879093\n"
          ]
        }
      ],
      "source": [
        "tirangle_mask = np.tri(len(critics), k=-1, dtype=np.bool_)\n",
        "norm_pear_sim_vals = dist_pear_vals[tirangle_mask]\n",
        "norm_pear_sim_vals.round(3)\n",
        "\n",
        "print(norm_pear_sim_vals.mean(), norm_pear_sim_vals.std())"
      ]
    },
    {
      "cell_type": "code",
      "execution_count": 16,
      "metadata": {
        "colab": {
          "base_uri": "https://localhost:8080/",
          "height": 487
        },
        "id": "PGurAONE63wZ",
        "outputId": "359003b5-0d0a-4ccb-c679-2292bf634712"
      },
      "outputs": [
        {
          "output_type": "display_data",
          "data": {
            "text/plain": [
              "<Figure size 1000x500 with 1 Axes>"
            ],
            "image/png": "[encoded data removed]"
          },
          "metadata": {}
        }
      ],
      "source": [
        "plot_pdf(dist_pear_vals, \"Pearson similarity distribution\")"
      ]
    },
    {
      "cell_type": "code",
      "execution_count": 17,
      "metadata": {
        "colab": {
          "base_uri": "https://localhost:8080/",
          "height": 487
        },
        "id": "WXGnw2Yh66dO",
        "outputId": "0bb272fc-88cd-487b-d616-8f36e6c5fd20"
      },
      "outputs": [
        {
          "output_type": "display_data",
          "data": {
            "text/plain": [
              "<Figure size 1000x500 with 1 Axes>"
            ],
            "image/png": "[encoded data removed]"
          },
          "metadata": {}
        }
      ],
      "source": [
        "plot_pdf(norm_pear_sim_vals, \"Normalized pearson similarity distribution\")\n"
      ]
    },
    {
      "cell_type": "markdown",
      "metadata": {
        "id": "ffTDk28E69Dz"
      },
      "source": [
        "## Ranking"
      ]
    },
    {
      "cell_type": "markdown",
      "source": [
        "Here we create a function to find top-n similar users for a given one"
      ],
      "metadata": {
        "id": "k1G_kv9dt_Sc"
      }
    },
    {
      "cell_type": "code",
      "execution_count": 26,
      "metadata": {
        "id": "ZsYntszE8VwQ"
      },
      "outputs": [],
      "source": [
        "def top_matches(\n",
        "        critics: dict, person: str, n: int = 5, similarity_fn: Callable = sim_pearson\n",
        "):\n",
        "    \"\"\"Returns top-n most similar critics\"\"\"\n",
        "    scores = []\n",
        "\n",
        "    for other in critics:\n",
        "        if other == person:\n",
        "            continue\n",
        "\n",
        "        similarity_score = similarity_fn(critics, person, other)\n",
        "        scores.append((similarity_score, other))\n",
        "\n",
        "    scores.sort(reverse=True)\n",
        "\n",
        "    return scores[0:n]"
      ]
    },
    {
      "cell_type": "code",
      "execution_count": null,
      "metadata": {
        "colab": {
          "background_save": true,
          "base_uri": "https://localhost:8080/"
        },
        "id": "lExZkDJY8-D7",
        "outputId": "1ce3163d-5ee9-46de-f5e1-1d234ec94ebf"
      },
      "outputs": [
        {
          "data": {
            "text/plain": [
              "[(np.float64(0.9912407071619302), 'Lisa Rose'),\n",
              " (np.float64(0.9244734516419049), 'Mick LaSalle'),\n",
              " (np.float64(0.8934051474415643), 'Claudia Puig')]"
            ]
          },
          "execution_count": 19,
          "metadata": {},
          "output_type": "execute_result"
        }
      ],
      "source": [
        "top_matches(critics, \"Toby\", n=3, similarity_fn=sim_pearson)\n"
      ]
    },
    {
      "cell_type": "code",
      "execution_count": null,
      "metadata": {
        "colab": {
          "background_save": true,
          "base_uri": "https://localhost:8080/"
        },
        "id": "_fQ9A7Y-9F3R",
        "outputId": "9512a8c3-cd40-40e6-86e4-77f71693e310"
      },
      "outputs": [
        {
          "name": "stdout",
          "output_type": "stream",
          "text": [
            "{   'Claudia Puig': {   'Just My Luck': 3.0,\n",
            "                        'Snakes on a Plane': 3.5,\n",
            "                        'Superman Returns': 4.0,\n",
            "                        'The Night Listener': 4.5,\n",
            "                        'You, Me and Dupree': 2.5},\n",
            "    'Lisa Rose': {   'Just My Luck': 3.0,\n",
            "                     'Lady in the Water': 2.5,\n",
            "                     'Snakes on a Plane': 3.5,\n",
            "                     'Superman Returns': 3.5,\n",
            "                     'The Night Listener': 3.0,\n",
            "                     'You, Me and Dupree': 2.5},\n",
            "    'Mick LaSalle': {   'Just My Luck': 2.0,\n",
            "                        'Lady in the Water': 3.0,\n",
            "                        'Snakes on a Plane': 4.0,\n",
            "                        'Superman Returns': 3.0,\n",
            "                        'The Night Listener': 3.0,\n",
            "                        'You, Me and Dupree': 2.0},\n",
            "    'Toby': {   'Snakes on a Plane': 4.5,\n",
            "                'Superman Returns': 4.0,\n",
            "                'You, Me and Dupree': 1.0}}\n"
          ]
        }
      ],
      "source": [
        "pp.pprint(\n",
        "    {k: v for k, v in critics.items() if k in (\"Toby\", \"Mick LaSalle\", \"Lisa Rose\", \"Claudia Puig\")}\n",
        ")\n"
      ]
    },
    {
      "cell_type": "code",
      "execution_count": null,
      "metadata": {
        "colab": {
          "background_save": true,
          "base_uri": "https://localhost:8080/"
        },
        "id": "bhBCzgfE9sZK",
        "outputId": "356f10c7-eca8-49d5-8320-a44ef68d56a2"
      },
      "outputs": [
        {
          "data": {
            "text/plain": [
              "[(0.4, 'Mick LaSalle'),\n",
              " (0.38742588672279304, 'Michael Phillips'),\n",
              " (0.3567891723253309, 'Claudia Puig')]"
            ]
          },
          "execution_count": 21,
          "metadata": {},
          "output_type": "execute_result"
        }
      ],
      "source": [
        "top_matches(critics, \"Toby\", n=3, similarity_fn=sim_distance)\n"
      ]
    },
    {
      "cell_type": "code",
      "execution_count": null,
      "metadata": {
        "colab": {
          "background_save": true,
          "base_uri": "https://localhost:8080/"
        },
        "id": "BggG0cqm9vaq",
        "outputId": "1f17ff98-4ccd-47cb-adb1-74d6530f0203"
      },
      "outputs": [
        {
          "name": "stdout",
          "output_type": "stream",
          "text": [
            "{   'Claudia Puig': {   'Just My Luck': 3.0,\n",
            "                        'Snakes on a Plane': 3.5,\n",
            "                        'Superman Returns': 4.0,\n",
            "                        'The Night Listener': 4.5,\n",
            "                        'You, Me and Dupree': 2.5},\n",
            "    'Michael Phillips': {   'Lady in the Water': 2.5,\n",
            "                            'Snakes on a Plane': 3.0,\n",
            "                            'Superman Returns': 3.5,\n",
            "                            'The Night Listener': 4.0},\n",
            "    'Mick LaSalle': {   'Just My Luck': 2.0,\n",
            "                        'Lady in the Water': 3.0,\n",
            "                        'Snakes on a Plane': 4.0,\n",
            "                        'Superman Returns': 3.0,\n",
            "                        'The Night Listener': 3.0,\n",
            "                        'You, Me and Dupree': 2.0},\n",
            "    'Toby': {   'Snakes on a Plane': 4.5,\n",
            "                'Superman Returns': 4.0,\n",
            "                'You, Me and Dupree': 1.0}}\n"
          ]
        }
      ],
      "source": [
        "pp.pprint(\n",
        "    {k: v for k, v in critics.items() if k in (\"Toby\", \"Mick LaSalle\", \"Michael Phillips\", \"Claudia Puig\")}\n",
        ")\n"
      ]
    },
    {
      "cell_type": "markdown",
      "metadata": {
        "id": "7Iw0eZm0-EWM"
      },
      "source": [
        "## User-based approach"
      ]
    },
    {
      "cell_type": "markdown",
      "source": [
        "For a given user iterate over all other users and\n",
        "\n",
        "1) Calculate their similarity (consider only those with sim > 0)\n",
        "\n",
        "2) For each item add a weighted rating of this item\n",
        "\n",
        "3) Calculate weighted average score for each candidate item and then sort in descending order"
      ],
      "metadata": {
        "id": "9Mo2iy7nu_WD"
      }
    },
    {
      "cell_type": "code",
      "execution_count": 19,
      "metadata": {
        "id": "ps7xGSCt-Gn-"
      },
      "outputs": [],
      "source": [
        "def get_recommendations(prefs: dict, person: str, similarity: Callable = sim_pearson):\n",
        "    \"\"\"Calculates recomendations for a `person` using weighted mean from `prefs`\"\"\"\n",
        "    totals = {}     # Stores the weighted sum of ratings for each unseen item\n",
        "    sim_sums = {}   # Stores the total similarity scores for each unseen item\n",
        "\n",
        "    # Iterate over every other user in the dataset\n",
        "    for other in critics:\n",
        "        if other == person:\n",
        "            continue  # Skip comparing the person to themselves\n",
        "\n",
        "        # Compute similarity score between the target user and this other user\n",
        "        sim = similarity(critics, person, other)\n",
        "\n",
        "        # Ignore users with zero or negative similarity\n",
        "        if sim <= 0:\n",
        "            continue\n",
        "\n",
        "        # Go through every item rated by this other user\n",
        "        for item in critics[other]:\n",
        "            # Consider only items that the target user hasn't rated or has a rating of 0\n",
        "            if item not in critics[person] or critics[person][item] == 0:\n",
        "                # Add weighted rating (rating × similarity)\n",
        "                totals.setdefault(item, 0)\n",
        "                totals[item] += critics[other][item] * sim\n",
        "\n",
        "                # Accumulate similarity scores for normalization later\n",
        "                sim_sums.setdefault(item, 0)\n",
        "                sim_sums[item] += sim\n",
        "\n",
        "    # Calculate weighted average score for each candidate item\n",
        "    rankings = [(total / sim_sums[item], item) for item, total in totals.items()]\n",
        "\n",
        "    # Sort the list in descending order of predicted rating\n",
        "    rankings.sort(reverse=True)\n",
        "\n",
        "    return rankings"
      ]
    },
    {
      "cell_type": "code",
      "source": [
        "print(get_recommendations(critics, \"Toby\", sim_pearson))\n",
        "print(critics[\"Toby\"])\n",
        "print(get_recommendations(critics, \"Toby\", sim_distance))"
      ],
      "metadata": {
        "colab": {
          "base_uri": "https://localhost:8080/"
        },
        "id": "ZXRuTieOwixR",
        "outputId": "3715d7b4-fd66-4848-d620-d604e9a412fb"
      },
      "execution_count": 21,
      "outputs": [
        {
          "output_type": "stream",
          "name": "stdout",
          "text": [
            "[(np.float64(3.347789526713101), 'The Night Listener'), (np.float64(2.832549918264162), 'Lady in the Water'), (np.float64(2.530980703765565), 'Just My Luck')]\n",
            "{'Snakes on a Plane': 4.5, 'You, Me and Dupree': 1.0, 'Superman Returns': 4.0}\n",
            "[(3.457128694491423, 'The Night Listener'), (2.778584003814924, 'Lady in the Water'), (2.422482042361917, 'Just My Luck')]\n"
          ]
        }
      ]
    },
    {
      "cell_type": "markdown",
      "source": [
        "## Item-based collaborative filtering"
      ],
      "metadata": {
        "id": "qfzdqr36wrcX"
      }
    },
    {
      "cell_type": "markdown",
      "source": [
        "Transposing the user-based approach\n",
        "\n",
        "Idea: We recommend similar items to those user liked"
      ],
      "metadata": {
        "id": "poUKm7_7xKny"
      }
    },
    {
      "cell_type": "code",
      "source": [
        "def transform_prefs(critics: dict) -> dict:\n",
        "    \"\"\"Inverts nested dict of critics-films-scores into films-critics-scores dict\"\"\"\n",
        "    result = {}\n",
        "\n",
        "    for person in critics:\n",
        "        for item in critics[person]:\n",
        "            result.setdefault(item, {})\n",
        "            result[item][person] = critics[person][item]\n",
        "\n",
        "    return result"
      ],
      "metadata": {
        "id": "PjcefUL5wqXs"
      },
      "execution_count": 22,
      "outputs": []
    },
    {
      "cell_type": "code",
      "source": [
        "def calculate_similar_items(prefs: dict, n: int = 10, similarity_fn: Callable = sim_distance):\n",
        "    \"\"\"Creates a dict with most similar items for each item\"\"\"\n",
        "    result = {}\n",
        "\n",
        "    # Convert user-based prefs to item-based prefs\n",
        "    item_prefs = transform_prefs(prefs)\n",
        "\n",
        "    c = 0  # Counter for progress tracking\n",
        "\n",
        "    # Iterate over each item in the dataset\n",
        "    for item in item_prefs:\n",
        "        c += 1\n",
        "\n",
        "        # Find the top N similar items for this item\n",
        "        scores = top_matches(item_prefs, item, n=n, similarity_fn=similarity_fn)\n",
        "        result[item] = scores\n",
        "\n",
        "        # Optional progress output every 100 items\n",
        "        if c % 100 == 0:\n",
        "            print(\"%d / %d\" % (c, len(item_prefs)))\n",
        "\n",
        "    return result\n"
      ],
      "metadata": {
        "id": "EVIR6OPzw7ey"
      },
      "execution_count": 25,
      "outputs": []
    },
    {
      "cell_type": "code",
      "source": [
        "itemsim = calculate_similar_items(critics, n=10)\n",
        "pp.pprint(itemsim)\n"
      ],
      "metadata": {
        "colab": {
          "base_uri": "https://localhost:8080/"
        },
        "id": "vhl5MchJxsLL",
        "outputId": "0d855405-c67a-4904-8878-6c0049504daf"
      },
      "execution_count": 28,
      "outputs": [
        {
          "output_type": "stream",
          "name": "stdout",
          "text": [
            "{   'Just My Luck': [   (0.3483314773547883, 'Lady in the Water'),\n",
            "                        (0.32037724101704074, 'You, Me and Dupree'),\n",
            "                        (0.2989350844248255, 'The Night Listener'),\n",
            "                        (0.2553967929896867, 'Snakes on a Plane'),\n",
            "                        (0.20799159651347807, 'Superman Returns')],\n",
            "    'Lady in the Water': [   (0.4494897427831781, 'You, Me and Dupree'),\n",
            "                             (0.38742588672279304, 'The Night Listener'),\n",
            "                             (0.3483314773547883, 'Snakes on a Plane'),\n",
            "                             (0.3483314773547883, 'Just My Luck'),\n",
            "                             (0.2402530733520421, 'Superman Returns')],\n",
            "    'Snakes on a Plane': [   (0.3483314773547883, 'Lady in the Water'),\n",
            "                             (0.32037724101704074, 'The Night Listener'),\n",
            "                             (0.3090169943749474, 'Superman Returns'),\n",
            "                             (0.2553967929896867, 'Just My Luck'),\n",
            "                             (0.1886378647726465, 'You, Me and Dupree')],\n",
            "    'Superman Returns': [   (0.3090169943749474, 'Snakes on a Plane'),\n",
            "                            (0.252650308587072, 'The Night Listener'),\n",
            "                            (0.2402530733520421, 'Lady in the Water'),\n",
            "                            (0.20799159651347807, 'Just My Luck'),\n",
            "                            (0.1918253663634734, 'You, Me and Dupree')],\n",
            "    'The Night Listener': [   (0.38742588672279304, 'Lady in the Water'),\n",
            "                              (0.32037724101704074, 'Snakes on a Plane'),\n",
            "                              (0.2989350844248255, 'Just My Luck'),\n",
            "                              (0.29429805508554946, 'You, Me and Dupree'),\n",
            "                              (0.252650308587072, 'Superman Returns')],\n",
            "    'You, Me and Dupree': [   (0.4494897427831781, 'Lady in the Water'),\n",
            "                              (0.32037724101704074, 'Just My Luck'),\n",
            "                              (0.29429805508554946, 'The Night Listener'),\n",
            "                              (0.1918253663634734, 'Superman Returns'),\n",
            "                              (0.1886378647726465, 'Snakes on a Plane')]}\n"
          ]
        }
      ]
    },
    {
      "cell_type": "code",
      "source": [
        "itemsim[\"Superman Returns\"]\n"
      ],
      "metadata": {
        "colab": {
          "base_uri": "https://localhost:8080/"
        },
        "id": "U6xtI-B-xv_d",
        "outputId": "b23aec03-83fe-4154-b200-9949f79288c1"
      },
      "execution_count": 29,
      "outputs": [
        {
          "output_type": "execute_result",
          "data": {
            "text/plain": [
              "[(0.3090169943749474, 'Snakes on a Plane'),\n",
              " (0.252650308587072, 'The Night Listener'),\n",
              " (0.2402530733520421, 'Lady in the Water'),\n",
              " (0.20799159651347807, 'Just My Luck'),\n",
              " (0.1918253663634734, 'You, Me and Dupree')]"
            ]
          },
          "metadata": {},
          "execution_count": 29
        }
      ]
    },
    {
      "cell_type": "code",
      "source": [
        "def get_recommended_items(prefs: dict, item_match: dict, user: str):\n",
        "    \"\"\"Calculates recomendations for `user` using mean scores based on items similarity\"\"\"\n",
        "\n",
        "    # All items the target user has already rated\n",
        "    user_ratings = prefs[user]\n",
        "\n",
        "    # Accumulate weighted scores for candidate items\n",
        "    scores = {}\n",
        "    # Accumulate total similarity values for normalization\n",
        "    total_sim = {}\n",
        "\n",
        "    # Loop over each item the user has rated\n",
        "    for item, rating in user_ratings.items():\n",
        "        # Loop over items similar to this one\n",
        "        for similarity, item2 in item_match[item]:\n",
        "            # Skip items the user has already rated\n",
        "            if item2 in user_ratings:\n",
        "                continue\n",
        "\n",
        "            # Weighted sum of rating × similarity\n",
        "            scores.setdefault(item2, 0)\n",
        "            scores[item2] += similarity * rating\n",
        "\n",
        "            # Sum of similarities (for later normalization)\n",
        "            total_sim.setdefault(item2, 0)\n",
        "            total_sim[item2] += similarity\n",
        "\n",
        "            # Prevent division by zero later\n",
        "            if total_sim[item2] == 0:\n",
        "                total_sim[item2] = 1e-7\n",
        "\n",
        "    # Normalize weighted sums by total similarity to get predicted ratings\n",
        "    rankings = [(score / total_sim[item], item) for item, score in scores.items()]\n",
        "\n",
        "    # Sort recommendations by predicted rating in descending order\n",
        "    rankings.sort(reverse=True)\n",
        "\n",
        "    return rankings"
      ],
      "metadata": {
        "id": "lgl1zAaqyQ74"
      },
      "execution_count": 30,
      "outputs": []
    },
    {
      "cell_type": "code",
      "source": [
        "get_recommended_items(critics, itemsim, \"Toby\")"
      ],
      "metadata": {
        "colab": {
          "base_uri": "https://localhost:8080/"
        },
        "id": "QFSmvDInygza",
        "outputId": "82c6da4f-e21d-475c-8d3b-c52b5c092176"
      },
      "execution_count": 32,
      "outputs": [
        {
          "output_type": "execute_result",
          "data": {
            "text/plain": [
              "[(3.1667425234070894, 'The Night Listener'),\n",
              " (2.9366294028444346, 'Just My Luck'),\n",
              " (2.868767392626467, 'Lady in the Water')]"
            ]
          },
          "metadata": {},
          "execution_count": 32
        }
      ]
    }
  ],
  "metadata": {
    "colab": {
      "provenance": []
    },
    "kernelspec": {
      "display_name": "Python 3",
      "name": "python3"
    },
    "language_info": {
      "name": "python"
    }
  },
  "nbformat": 4,
  "nbformat_minor": 0
}